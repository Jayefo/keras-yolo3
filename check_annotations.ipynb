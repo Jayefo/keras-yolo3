{
 "cells": [
  {
   "cell_type": "code",
   "execution_count": 1,
   "metadata": {},
   "outputs": [
    {
     "name": "stdout",
     "output_type": "stream",
     "text": [
      "congratulation! it is been verified that all jpg file are marked.\n",
      "congratulation! it is been verified that all xml file are correct.\n"
     ]
    }
   ],
   "source": [
    "#获取文件夹中的文件路径\n",
    "import os\n",
    "def getFilePathList(dirPath, partOfFileName=''):\n",
    "    allFileName_list = list(os.walk(dirPath))[0][2]\n",
    "    fileName_list = [k for k in allFileName_list if partOfFileName in k]\n",
    "    filePath_list = [os.path.join(dirPath, k) for k in fileName_list]\n",
    "    return filePath_list\n",
    "\n",
    "#此段代码检查标记好的文件夹是否有图片漏标\n",
    "def check_1(dirPath):\n",
    "    jpgFilePath_list = getFilePathList(dirPath, '.jpg')\n",
    "    allFileMarked = True\n",
    "    for jpgFilePath in jpgFilePath_list:\n",
    "        xmlFilePath = jpgFilePath[:-4] + '.xml'\n",
    "        if not os.path.exists(xmlFilePath):\n",
    "            print('%s this picture is not marked.' %jpgFilePath)\n",
    "            allFileMarked = False\n",
    "    if allFileMarked:\n",
    "        print('congratulation! it is been verified that all jpg file are marked.')\n",
    "\n",
    "#此段代码检查标记的xml文件中是否有物体标记类别拼写错误        \n",
    "import xml.etree.ElementTree as ET\n",
    "def check_2(dirPath, className_list):\n",
    "    className_set = set(className_list)\n",
    "    xmlFilePath_list = getFilePathList(dirPath, '.xml')\n",
    "    allFileCorrect = True\n",
    "    for xmlFilePath in xmlFilePath_list:\n",
    "        with open(xmlFilePath) as file:\n",
    "            fileContent = file.read()\n",
    "        root = ET.XML(fileContent)\n",
    "        object_list = root.findall('object')\n",
    "        for object_item in object_list:\n",
    "            name = object_item.find('name')\n",
    "            className = name.text\n",
    "            if className not in className_set:\n",
    "                print('%s this xml file has wrong class name \"%s\" ' %(xmlFilePath, className))\n",
    "                allFileCorrect = False\n",
    "    if allFileCorrect:\n",
    "        print('congratulation! it is been verified that all xml file are correct.')\n",
    "\n",
    "if __name__ == '__main__':\n",
    "    dirPath = 'selected_images'\n",
    "    className_list = ['fish', 'human_face']\n",
    "    check_1(dirPath)\n",
    "    check_2(dirPath, className_list)"
   ]
  },
  {
   "cell_type": "code",
   "execution_count": null,
   "metadata": {},
   "outputs": [],
   "source": []
  }
 ],
 "metadata": {
  "kernelspec": {
   "display_name": "Python 3",
   "language": "python",
   "name": "python3"
  },
  "language_info": {
   "codemirror_mode": {
    "name": "ipython",
    "version": 3
   },
   "file_extension": ".py",
   "mimetype": "text/x-python",
   "name": "python",
   "nbconvert_exporter": "python",
   "pygments_lexer": "ipython3",
   "version": "3.6.5"
  }
 },
 "nbformat": 4,
 "nbformat_minor": 2
}

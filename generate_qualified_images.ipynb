{
 "cells": [
  {
   "cell_type": "code",
   "execution_count": 1,
   "metadata": {},
   "outputs": [],
   "source": [
    "import os\n",
    "import random\n",
    "from PIL import Image\n",
    "import shutil\n",
    "\n",
    "#获取文件夹中的文件路径\n",
    "def getFilePathList(dirPath, partOfFileName=''):\n",
    "    allFileName_list = list(os.walk(dirPath))[0][2]\n",
    "    fileName_list = [k for k in allFileName_list if partOfFileName in k]\n",
    "    filePath_list = [os.path.join(dirPath, k) for k in fileName_list]\n",
    "    return filePath_list\n",
    "\n",
    "#获取一部分像素足够，即长，宽都大于416的图片\n",
    "def generate_qualified_images(dirPath, sample_number, new_dirPath):\n",
    "    jpgFilePath_list = getFilePathList(dirPath, '.JPEG')\n",
    "    random.shuffle(jpgFilePath_list)\n",
    "    if not os.path.isdir(new_dirPath):\n",
    "        os.makedirs(new_dirPath)\n",
    "    i = 0\n",
    "    for jpgFilePath in jpgFilePath_list:\n",
    "        image = Image.open(jpgFilePath)\n",
    "        width, height = image.size\n",
    "        if width >= 416 and height >= 416:\n",
    "            i += 1\n",
    "            new_jpgFilePath = os.path.join(new_dirPath, '%03d.jpg' %i)\n",
    "            shutil.copy(jpgFilePath, new_jpgFilePath)\n",
    "        if i == sample_number:\n",
    "            break\n",
    "\n",
    "#获取数量为100的合格样本存放到selected_images文件夹中\n",
    "generate_qualified_images('n01440764', 200, 'selected_images_2')"
   ]
  },
  {
   "cell_type": "code",
   "execution_count": null,
   "metadata": {},
   "outputs": [],
   "source": []
  }
 ],
 "metadata": {
  "kernelspec": {
   "display_name": "Python 3",
   "language": "python",
   "name": "python3"
  },
  "language_info": {
   "codemirror_mode": {
    "name": "ipython",
    "version": 3
   },
   "file_extension": ".py",
   "mimetype": "text/x-python",
   "name": "python",
   "nbconvert_exporter": "python",
   "pygments_lexer": "ipython3",
   "version": "3.6.5"
  }
 },
 "nbformat": 4,
 "nbformat_minor": 2
}

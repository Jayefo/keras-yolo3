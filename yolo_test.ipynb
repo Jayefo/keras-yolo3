{
 "cells": [
  {
   "cell_type": "code",
   "execution_count": 1,
   "metadata": {},
   "outputs": [
    {
     "name": "stderr",
     "output_type": "stream",
     "text": [
      "/home/leikun/anaconda3/lib/python3.6/site-packages/h5py/__init__.py:36: FutureWarning: Conversion of the second argument of issubdtype from `float` to `np.floating` is deprecated. In future, it will be treated as `np.float64 == np.dtype(float).type`.\n",
      "  from ._conv import register_converters as _register_converters\n",
      "Using TensorFlow backend.\n"
     ]
    }
   ],
   "source": [
    "from yolo import YOLO\n",
    "yolo_model = YOLO(model_path='saved_model/trained_weights.h5')"
   ]
  },
  {
   "cell_type": "code",
   "execution_count": 2,
   "metadata": {},
   "outputs": [
    {
     "data": {
      "text/plain": [
       "['images_416x416/173.jpg',\n",
       " 'images_416x416/084.jpg',\n",
       " 'images_416x416/124.jpg',\n",
       " 'images_416x416/095.jpg',\n",
       " 'images_416x416/111.jpg',\n",
       " 'images_416x416/186.jpg',\n",
       " 'images_416x416/110.jpg',\n",
       " 'images_416x416/133.jpg',\n",
       " 'images_416x416/101.jpg',\n",
       " 'images_416x416/184.jpg',\n",
       " 'images_416x416/120.jpg',\n",
       " 'images_416x416/013.jpg',\n",
       " 'images_416x416/194.jpg',\n",
       " 'images_416x416/075.jpg',\n",
       " 'images_416x416/158.jpg',\n",
       " 'images_416x416/199.jpg',\n",
       " 'images_416x416/144.jpg',\n",
       " 'images_416x416/082.jpg',\n",
       " 'images_416x416/023.jpg',\n",
       " 'images_416x416/052.jpg']"
      ]
     },
     "execution_count": 2,
     "metadata": {},
     "output_type": "execute_result"
    }
   ],
   "source": [
    "with open('dataset_test.txt') as file:\n",
    "    line_list = file.readlines()\n",
    "jpgFilePath_list = [k.split()[0] for k in line_list]\n",
    "jpgFilePath_list"
   ]
  },
  {
   "cell_type": "code",
   "execution_count": null,
   "metadata": {},
   "outputs": [],
   "source": [
    "from PIL import Image\n",
    "jpgFilePath = jpgFilePath_list[0]\n",
    "image = Image.open(jpgFilePath)\n",
    "yolo_model.detect_image(image)"
   ]
  }
 ],
 "metadata": {
  "kernelspec": {
   "display_name": "Python 3",
   "language": "python",
   "name": "python3"
  },
  "language_info": {
   "codemirror_mode": {
    "name": "ipython",
    "version": 3
   },
   "file_extension": ".py",
   "mimetype": "text/x-python",
   "name": "python",
   "nbconvert_exporter": "python",
   "pygments_lexer": "ipython3",
   "version": "3.6.5"
  }
 },
 "nbformat": 4,
 "nbformat_minor": 2
}
